{
 "cells": [
  {
   "cell_type": "markdown",
   "metadata": {},
   "source": [
    "<p style='font-size:40px;color:blue;'> Topic of the Project </p>\n",
    "\n",
    "### For this second project, I chose to play with strings and I propose to attempt to solve the following problems.\n",
    "\n",
    "Note : During the project, we will apply continuous integration principles using CircleCI "
   ]
  },
  {
   "cell_type": "markdown",
   "metadata": {},
   "source": [
    "# 1- We consider words composed of lowercase alphabetic characters, separated by whitespace(or new line) and we are interested in finding the 5 largest anagram groups\n",
    "\n",
    "### Example :\n",
    "\n",
    "#### Input\n",
    "- undisplayed\n",
    "- trace\n",
    "- tea\n",
    "- singleton\n",
    "- eta\n",
    "- eat\n",
    "- displayed\n",
    "- crate\n",
    "- cater\n",
    "- carte\n",
    "- caret\n",
    "- beta\n",
    "- beat\n",
    "- bate\n",
    "- ate\n",
    "- abet\n",
    "\n",
    "#### Output\n",
    "\n",
    "- Group of size 5: caret carte cater crate trace .\n",
    "- Group of size 4: abet bate beat beta .\n",
    "- Group of size 4: ate eat eta tea .\n",
    "- Group of size 1: displayed .\n",
    "- Group of size 1: singleton .\n",
    "\n",
    "Source of this problem : http://poj.org/problem?id=2408"
   ]
  },
  {
   "cell_type": "markdown",
   "metadata": {},
   "source": [
    "<hr/>\n",
    "\n",
    "#### In order to solve this problem we will apply the oriented object principle learned in course.\n",
    "\n",
    "I propose to consider the following classes.\n",
    "\n",
    "The Class <strong>Word</strong> will represent a word. We can imagine the following methods.\n",
    "\n",
    "- A method shuffle able to shuffle the letters in a word (useful for unitest)\n",
    "- A method is_anagram able to tell us if a word is an anagram of an other one\n",
    "\n",
    "The Class <strong>Dictionary</strong> will represent a set of words, inside which there are anagrams. We can imagine the following method:\n",
    "- A method groups_of_anagrams able to find all the groups of anagrams included in the dictionary we consider.\n",
    "\n",
    "The Class <strong>Parse</strong> will be used to parse oracles for our problem. We can imagine the following method:\n",
    "- A method parse able to transform a .txt file into a dictionary of words if it respects the format given by the statement\n",
    "\n",
    "The Class <strong>Problem</strong> will be used to resolve a problem of this type with a .txt file. We can imagine the following method:\n",
    "- A method resolve which use the .txt file in order to solve the problem (so it returns the groups of anagrams of the dictionary defined by the .txt file)\n",
    "\n",
    "The Class <strong>TestMethods</strong> will be used to check the good working of our methods from the different classes"
   ]
  },
  {
   "cell_type": "code",
   "execution_count": 43,
   "metadata": {},
   "outputs": [],
   "source": [
    "import random as rd\n",
    "import unittest"
   ]
  },
  {
   "cell_type": "code",
   "execution_count": 82,
   "metadata": {},
   "outputs": [],
   "source": [
    "class Word:\n",
    "    def __init__(self,word):\n",
    "        self.string = word\n",
    "        \n",
    "    ''' To check if two words are anagram of each other we will procede like this :\n",
    "\n",
    "    First, we check if they have the same length. If it's the case...\n",
    "    \n",
    "    We take the first letter of the first word and we check if it's present in the second one.\n",
    "    \n",
    "    If it's not, we can conclude that the two words aren't anagrams \n",
    "    \n",
    "    If it's the case, we delete the first occurence of the letter considered in the second word and we continue with the\n",
    "\n",
    "    next letter of the first word. \n",
    "    \n",
    "    Finally, we continue like that until the end of the first word considered.\n",
    "    \n",
    "    Note : We will not take in account the uppercase for this exercise and so we will consider that\n",
    "    two words made of the exact same letters (even if some of them are maybe uppercase) are anagrams\n",
    "    '''\n",
    "        \n",
    "    def is_anagram(self,word):\n",
    "        s1=self.string.lower()\n",
    "        s2=word.string.lower()\n",
    "        bool=False\n",
    "        \n",
    "        if (len(s1)==len(s2)):\n",
    "            for i in range(0,len(s1)):\n",
    "                if s1[i] in s2:\n",
    "                    bool=True\n",
    "                    s2=s2.replace(s1[i],'',1) #We remove the first apparition of s1[i] in s2\n",
    "                else:\n",
    "                    bool=False\n",
    "                    break\n",
    "        return bool\n",
    "    \n",
    "    def shuffle(self):\n",
    "        L=list(self.string) #random.shuffle works on list so we decompose our word in a list of letters\n",
    "        rd.shuffle(L)\n",
    "        s=\"\".join(L)\n",
    "        W=Word(s) #and then we recompose the word\n",
    "        return W\n",
    "\n",
    "    def __str__(self):\n",
    "        return self.string\n",
    "\n",
    "    def __repr__(self):\n",
    "        return \"Word(\" + self.string +\")\""
   ]
  },
  {
   "cell_type": "code",
   "execution_count": 83,
   "metadata": {},
   "outputs": [
    {
     "name": "stderr",
     "output_type": "stream",
     "text": [
      ".\n",
      "----------------------------------------------------------------------\n",
      "Ran 1 test in 0.001s\n",
      "\n",
      "OK\n"
     ]
    },
    {
     "data": {
      "text/plain": [
       "<unittest.main.TestProgram at 0x1d973b0b548>"
      ]
     },
     "execution_count": 83,
     "metadata": {},
     "output_type": "execute_result"
    }
   ],
   "source": [
    "class TestMethods(unittest.TestCase):\n",
    "\n",
    "    def test_is_anagram(self):\n",
    "        Word1=Word('ChanCe')\n",
    "        Word2=Word('chnaec')\n",
    "        Word3=Word('kangaroo')\n",
    "        Word4=Word('KgroOanao')\n",
    "        Word5=Word('pneumonoultramicroscopicsilicovolcanoconiosis')\n",
    "        Word6=Word5.shuffle()\n",
    "        Word7=Word('Entertainment')\n",
    "        Word8=Word('Somethingelse')\n",
    "        self.assertEqual(Word1.is_anagram(Word2),True)\n",
    "        self.assertEqual(Word3.is_anagram(Word4),False)\n",
    "        self.assertEqual(Word5.is_anagram(Word6),True)\n",
    "        self.assertEqual(Word7.is_anagram(Word8),False)\n",
    "\n",
    "  \n",
    "unittest.main(argv=[''], verbosity=1, exit=False)"
   ]
  },
  {
   "cell_type": "markdown",
   "metadata": {},
   "source": [
    "## 2 - We want a program that will read in a dictionary and a list of phrases and determine which words from the dictionary, if any, form anagrams of the given phrases.\n",
    "\n",
    "The program must find all sets of words in the dictionary which can be formed from the letters in each phrase. We will not include the set consisting of the original words. \n",
    "\n",
    "If no anagram is present, do not write anything, not even a blank line.\n",
    "\n",
    "### Example :\n",
    "\n",
    "#### Input \n",
    "\n",
    "ABC\n",
    "AND\n",
    "DEF\n",
    "DXZ\n",
    "K\n",
    "KX\n",
    "LJSRT\n",
    "LT\n",
    "PT\n",
    "PTYYWQ\n",
    "Y\n",
    "YWJSRQ\n",
    "ZD\n",
    "ZZXY\n",
    "ZZXY ABC DEF\n",
    "SXZYTWQP KLJ YRTD\n",
    "ZZXY YWJSRQ PTYYWQ ZZXY\n",
    "\n",
    "#### Output\n",
    "\n",
    "SXZYTWQP KLJ YRTD = DXZ K LJSRT PTYYWQ \n",
    "\n",
    "SXZYTWQP KLJ YRTD = DXZ K LT PT Y YWJSRQ\n",
    "\n",
    "SXZYTWQP KLJ YRTD = KX LJSRT PTYYWQ ZD\n",
    "\n",
    "SXZYTWQP KLJ YRTD = KX LT PT Y YWJSRQ ZD\n",
    "\n",
    "Source of this problem : https://onlinejudge.org/index.php?option=onlinejudge&page=show_problem&problem=84"
   ]
  },
  {
   "cell_type": "markdown",
   "metadata": {},
   "source": [
    "# 3 - Finally, we will try to create a spell checker\n",
    "\n",
    "We will study first, the correction of the mistakes in which all the letters of a word are present, but, not in the good order\n",
    "\n",
    "Example :'Cra' instead of 'Car'\n",
    "\n",
    "The program must find such mistakes in a sentence or a paragraph knowing a sets of words in a dictionary.\n",
    "\n",
    "If I have time, I will extends the power of this spell checker in considering the case where some letters are forgotten in a word\n",
    "\n",
    "Exemple : 'Rom' instead of 'Room'\n",
    "\n",
    "\n",
    "#### Input \n",
    "\n",
    "- Dictionary = ['Movie','Car','Room','Supermarket','Computer']\n",
    "- Sentence = 'Today, I will go to the supemakret because I need a copmuter for my romo'\n",
    "\n",
    "#### Output\n",
    "\n",
    "I find 3 errors, I think the correct answer is :\n",
    "\n",
    "'''Today, I will go to the supermarket because I need a computer for my room'\n"
   ]
  }
 ],
 "metadata": {
  "kernelspec": {
   "display_name": "Python 3",
   "language": "python",
   "name": "python3"
  },
  "language_info": {
   "codemirror_mode": {
    "name": "ipython",
    "version": 3
   },
   "file_extension": ".py",
   "mimetype": "text/x-python",
   "name": "python",
   "nbconvert_exporter": "python",
   "pygments_lexer": "ipython3",
   "version": "3.7.5"
  }
 },
 "nbformat": 4,
 "nbformat_minor": 4
}
