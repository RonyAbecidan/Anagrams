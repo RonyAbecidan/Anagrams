{
 "cells": [
  {
   "cell_type": "markdown",
   "metadata": {},
   "source": [
    "<p style='font-size:40px;color:blue;'> Topic of the Project </p>\n",
    "\n",
    "### For this second project, I chose to play with strings and I propose to attempt to solve the two following problems"
   ]
  },
  {
   "cell_type": "markdown",
   "metadata": {},
   "source": [
    "# 1- We consider words composed of lowercase alphabetic characters, separated by whitespace(or new line) and we are interested in finding the 5 largest anagram groups\n",
    "\n",
    "### Example :\n",
    "\n",
    "#### Input\n",
    "- undisplayed\n",
    "- trace\n",
    "- tea\n",
    "- singleton\n",
    "- eta\n",
    "- eat\n",
    "- displayed\n",
    "- crate\n",
    "- cater\n",
    "- carte\n",
    "- caret\n",
    "- beta\n",
    "- beat\n",
    "- bate\n",
    "- ate\n",
    "- abet\n",
    "\n",
    "#### Output\n",
    "\n",
    "- Group of size 5: caret carte cater crate trace .\n",
    "- Group of size 4: abet bate beat beta .\n",
    "- Group of size 4: ate eat eta tea .\n",
    "- Group of size 1: displayed .\n",
    "- Group of size 1: singleton .\n",
    "\n",
    "Source of this problem : http://poj.org/problem?id=2408"
   ]
  },
  {
   "cell_type": "markdown",
   "metadata": {},
   "source": [
    "## 2 - We want a program that will read in a dictionary and a list of phrases and determine which words from the dictionary, if any, form anagrams of the given phrases.\n",
    "\n",
    "The program must find all sets of words in the dictionary which can be formed from the letters in each phrase. We will not include the set consisting of the original words. \n",
    "\n",
    "If no anagram is present, do not write anything, not even a blank line.\n",
    "\n",
    "### Example :\n",
    "\n",
    "#### Input \n",
    "\n",
    "ABC\n",
    "AND\n",
    "DEF\n",
    "DXZ\n",
    "K\n",
    "KX\n",
    "LJSRT\n",
    "LT\n",
    "PT\n",
    "PTYYWQ\n",
    "Y\n",
    "YWJSRQ\n",
    "ZD\n",
    "ZZXY\n",
    "ZZXY ABC DEF\n",
    "SXZYTWQP KLJ YRTD\n",
    "ZZXY YWJSRQ PTYYWQ ZZXY\n",
    "\n",
    "#### Output\n",
    "\n",
    "SXZYTWQP KLJ YRTD = DXZ K LJSRT PTYYWQ \n",
    "\n",
    "SXZYTWQP KLJ YRTD = DXZ K LT PT Y YWJSRQ\n",
    "\n",
    "SXZYTWQP KLJ YRTD = KX LJSRT PTYYWQ ZD\n",
    "\n",
    "SXZYTWQP KLJ YRTD = KX LT PT Y YWJSRQ ZD\n",
    "\n",
    "Source of this problem : https://onlinejudge.org/index.php?option=onlinejudge&page=show_problem&problem=84"
   ]
  }
 ],
 "metadata": {
  "kernelspec": {
   "display_name": "Python 3",
   "language": "python",
   "name": "python3"
  },
  "language_info": {
   "codemirror_mode": {
    "name": "ipython",
    "version": 3
   },
   "file_extension": ".py",
   "mimetype": "text/x-python",
   "name": "python",
   "nbconvert_exporter": "python",
   "pygments_lexer": "ipython3",
   "version": "3.7.1"
  }
 },
 "nbformat": 4,
 "nbformat_minor": 2
}
