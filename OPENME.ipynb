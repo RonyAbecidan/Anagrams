{
 "cells": [
  {
   "cell_type": "markdown",
   "metadata": {},
   "source": [
    "## This notebook explain to you how to test my algorithms enabling to answer to the three problems introduced in README.md\n",
    "\n",
    "## If you want to know the reasoning behind, please, feel free to check the notebook 'Anagrams'\n",
    "\n",
    "Author : Rony Abecidan\n",
    "\n",
    "How to use this notebook in order to have results on some oracles ?\n",
    "We suppose that you have cloned the repository on GitHub : https://github.com/RonyAbecidan/Anagrams\n",
    "\n",
    "Before doing anything:\n",
    "\n",
    "Go to your terminal\n",
    "Check if you are currently running python 3.6,if not you can do that on Linux :\n",
    "\"sudo update-alternatives --install /usr/bin/python python /usr/bin/python3.6 2\"\n",
    "\n",
    "Change the path until you reach the folder 'PACKAGE' within the repository cloned\n",
    "launch the command \" pip install . \"\n",
    "\n",
    "### Then, in this notebook, launch IN THE GOOD ORDER, the cells below\n",
    "\n",
    "# 1\n",
    "\n",
    "In order to test Oracles with the first problem, you will have to put them on the repository called \"Oracles_1\".\n",
    "(If you don't want to do so, no problem, you will just have to give the path of the folder which contain your Oracles)\n",
    "\n",
    "The Oracles for the first problem have to meet the following conditions:\n",
    "- It's a .txt file\n",
    "- Each word have to be separated from the other ones with a new line\n",
    "\n",
    "### Example : \n",
    "Hello\n",
    "world\n",
    "!\n",
    "\n",
    "There is already one oracle in the folder Oracles_1, don't move it, it is used for unitests !\n",
    "There are also oracles provided by a git repository I find on the web. You can find them in the folder 'google-10000-english'\n",
    "\n",
    "If it's empty for you, just open your terminal on the repository cloned,\n",
    "<br>\n",
    "write <strong> \"git submodule init\" </strong>\n",
    "<br/>\n",
    "then <strong>\"git submodule update\"</strong>\n",
    "\n",
    "and that's it !\n",
    "\n",
    "# 2\n",
    "\n",
    "In order to test Oracles with the second problem, you will have to put them on the repository called \"Oracles_2\".\n",
    "(If you don't want to do so, no problem, you will just have to give the path of the folder which contain your Oracles)\n",
    "\n",
    "The Oracles for the second problem have to meet the following conditions:\n",
    "- It's a .txt file\n",
    "- Each word from the dictionary have to be separated from the other ones with a new line\n",
    "- When you want to put sentence in the file, put a \"#\" just before you write them\n",
    "- Each sentence is separated from the other ones with a new line\n",
    "\n",
    "### Example : \n",
    "Hello\n",
    "John\n",
    "world\n",
    "!\n",
    "#\n",
    "Hello world !\n",
    "Hello John\n",
    "\n",
    "There is already one oracle in the folder Oracles_2, don't move it, it is used for unitests !\n",
    "\n",
    "# 3\n",
    "\n",
    "In order to test Oracles with the third problem, you will have to put them on the repository called \"Oracles_3\".\n",
    "(If you don't want to do so, no problem, you will just have to give the path of the folder which contain your Oracles)\n",
    "\n",
    "The Oracles for the third problem have to meet the following conditions:\n",
    "- It's a .txt file\n",
    "- Each word from the dictionary have to be separated from the other ones with a new line\n",
    "- When you want to put sentence in the file, put a \"#\" just before you write them\n",
    "- Each sentence you want to correct is separated from the other ones with a new line\n",
    "\n",
    "### Example : \n",
    "Hello\n",
    "John\n",
    "world\n",
    "!\n",
    "#\n",
    "Hello wrlod !\n",
    "Hello Jonh\n",
    "\n",
    "There is already one oracle in the folder Oracles_3, don't move it, it is used for unitests !"
   ]
  },
  {
   "cell_type": "code",
   "execution_count": 1,
   "metadata": {},
   "outputs": [],
   "source": [
    "import os\n",
    "os.chdir('PACKAGE')"
   ]
  },
  {
   "cell_type": "code",
   "execution_count": 2,
   "metadata": {},
   "outputs": [
    {
     "name": "stderr",
     "output_type": "stream",
     "text": [
      "\n",
      "----------------------------------------------------------------------\n",
      "Ran 0 tests in 0.000s\n",
      "\n",
      "OK\n",
      "\n",
      "----------------------------------------------------------------------\n",
      "Ran 0 tests in 0.000s\n",
      "\n",
      "OK\n",
      "\n",
      "----------------------------------------------------------------------\n",
      "Ran 0 tests in 0.000s\n",
      "\n",
      "OK\n"
     ]
    }
   ],
   "source": [
    "import First_problem as fp\n",
    "import Second_problem as sp\n",
    "import Third_problem as tp"
   ]
  },
  {
   "cell_type": "code",
   "execution_count": 3,
   "metadata": {},
   "outputs": [],
   "source": [
    "os.chdir('../')"
   ]
  },
  {
   "cell_type": "code",
   "execution_count": 12,
   "metadata": {},
   "outputs": [
    {
     "name": "stdout",
     "output_type": "stream",
     "text": [
      "Group of size 5 : [trace, crate, cater, carte, caret] \n",
      "Group of size 4 : [beta, beat, bate, abet] \n",
      "Group of size 4 : [tea, eta, eat, ate] \n",
      "Group of size 1 : [displayed] \n",
      "Group of size 1 : [singleton] \n",
      "\n"
     ]
    }
   ],
   "source": [
    "P1=fp.Problem('example') #We create an instance of the first problem\n",
    "P1.resolve('Oracles_1') #name of the folder which contain the instance"
   ]
  },
  {
   "cell_type": "markdown",
   "metadata": {},
   "source": [
    "## Please note that you don't have to put the extension of the file\n",
    "\n",
    "Also, for the oracles which <b> are </b> on the repository Oracles_x, you can just give the name of the file and not the name of the folder"
   ]
  },
  {
   "cell_type": "code",
   "execution_count": 8,
   "metadata": {},
   "outputs": [
    {
     "name": "stdout",
     "output_type": "stream",
     "text": [
      "Group of size 5 : [trace, crate, cater, carte, caret] \n",
      "Group of size 4 : [beta, beat, bate, abet] \n",
      "Group of size 4 : [tea, eta, eat, ate] \n",
      "Group of size 1 : [displayed] \n",
      "Group of size 1 : [singleton] \n",
      "\n"
     ]
    }
   ],
   "source": [
    "P1=fp.Problem('example')\n",
    "P1.resolve()"
   ]
  },
  {
   "cell_type": "markdown",
   "metadata": {},
   "source": [
    "else, you <b> have to </b> write the entire path"
   ]
  },
  {
   "cell_type": "code",
   "execution_count": 10,
   "metadata": {},
   "outputs": [
    {
     "name": "stdout",
     "output_type": "stream",
     "text": [
      "Group of size 4 : [care, race, acer, acre] \n",
      "Group of size 4 : [edit, diet, tied, tide] \n",
      "Group of size 4 : [isp, psi, sip, ips] \n",
      "Group of size 4 : [post, stop, spot, tops] \n",
      "Group of size 4 : [spa, asp, sap, pas] \n",
      "\n"
     ]
    }
   ],
   "source": [
    "P1=fp.Problem('google-10000-english') #name of the .txt file\n",
    "P1.resolve('google-10000-english') #name of the folder which contain the instance"
   ]
  },
  {
   "cell_type": "markdown",
   "metadata": {},
   "source": [
    "This is exactly the same thing for the two other problems, just see"
   ]
  },
  {
   "cell_type": "code",
   "execution_count": 13,
   "metadata": {},
   "outputs": [
    {
     "name": "stdout",
     "output_type": "stream",
     "text": [
      "SXZYTWQP KLJ YRTD  =  DXZ K LJSRT PTYYWQ \n",
      "SXZYTWQP KLJ YRTD  =  DXZ K LT PT Y YWJSRQ \n",
      "SXZYTWQP KLJ YRTD  =  KX LJSRT PTYYWQ ZD \n",
      "SXZYTWQP KLJ YRTD  =  KX LT PT Y YWJSRQ ZD \n",
      "\n"
     ]
    }
   ],
   "source": [
    "P2=sp.Problem('example') #sp for second problem\n",
    "P2.resolve()"
   ]
  },
  {
   "cell_type": "code",
   "execution_count": 15,
   "metadata": {},
   "outputs": [
    {
     "name": "stdout",
     "output_type": "stream",
     "text": [
      "Sentence 1 : today, i am going to the supermarkte because i neeed a compter for my romo  \n",
      "Correction : today i am going to the supermarket because i need a computer for my room  \n",
      " \n",
      "Sentence 2 : i am watchnig a movie frmo my cra  \n",
      "Correction : i am watching a movie from my car  \n",
      " \n",
      "\n"
     ]
    }
   ],
   "source": [
    "P3=tp.Problem('example')\n",
    "P3.resolve()"
   ]
  },
  {
   "cell_type": "markdown",
   "metadata": {},
   "source": [
    "# Now, it's your turn to try =)"
   ]
  }
 ],
 "metadata": {
  "kernelspec": {
   "display_name": "Python 3",
   "language": "python",
   "name": "python3"
  },
  "language_info": {
   "codemirror_mode": {
    "name": "ipython",
    "version": 3
   },
   "file_extension": ".py",
   "mimetype": "text/x-python",
   "name": "python",
   "nbconvert_exporter": "python",
   "pygments_lexer": "ipython3",
   "version": "3.7.3"
  }
 },
 "nbformat": 4,
 "nbformat_minor": 2
}
